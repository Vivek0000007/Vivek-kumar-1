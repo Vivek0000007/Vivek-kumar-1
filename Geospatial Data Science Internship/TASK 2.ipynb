{
 "cells": [
  {
   "cell_type": "code",
   "execution_count": 1,
   "id": "5cc98307",
   "metadata": {},
   "outputs": [],
   "source": [
    "import pandas as pd\n",
    "import numpy as np\n",
    "import seaborn as sns\n",
    "import matplotlib.pyplot as plt\n",
    "import statistics"
   ]
  },
  {
   "cell_type": "code",
   "execution_count": 2,
   "id": "bdd050d8",
   "metadata": {},
   "outputs": [],
   "source": [
    "df = pd.read_csv('UNDP.csv')"
   ]
  },
  {
   "cell_type": "code",
   "execution_count": 3,
   "id": "1305ed9c",
   "metadata": {},
   "outputs": [
    {
     "data": {
      "text/html": [
       "<div>\n",
       "<style scoped>\n",
       "    .dataframe tbody tr th:only-of-type {\n",
       "        vertical-align: middle;\n",
       "    }\n",
       "\n",
       "    .dataframe tbody tr th {\n",
       "        vertical-align: top;\n",
       "    }\n",
       "\n",
       "    .dataframe thead th {\n",
       "        text-align: right;\n",
       "    }\n",
       "</style>\n",
       "<table border=\"1\" class=\"dataframe\">\n",
       "  <thead>\n",
       "    <tr style=\"text-align: right;\">\n",
       "      <th></th>\n",
       "      <th>latitude</th>\n",
       "      <th>longitude</th>\n",
       "      <th>brightness</th>\n",
       "      <th>scan</th>\n",
       "      <th>track</th>\n",
       "      <th>acq_date</th>\n",
       "      <th>acq_time</th>\n",
       "      <th>satellite</th>\n",
       "      <th>instrument</th>\n",
       "      <th>confidence</th>\n",
       "      <th>version</th>\n",
       "      <th>bright_t31</th>\n",
       "      <th>frp</th>\n",
       "      <th>daynight</th>\n",
       "      <th>type</th>\n",
       "    </tr>\n",
       "  </thead>\n",
       "  <tbody>\n",
       "    <tr>\n",
       "      <th>0</th>\n",
       "      <td>18.3777</td>\n",
       "      <td>80.5314</td>\n",
       "      <td>318.6</td>\n",
       "      <td>1.0</td>\n",
       "      <td>1.0</td>\n",
       "      <td>02-01-2015</td>\n",
       "      <td>802</td>\n",
       "      <td>Aqua</td>\n",
       "      <td>MODIS</td>\n",
       "      <td>69</td>\n",
       "      <td>6.03</td>\n",
       "      <td>302.6</td>\n",
       "      <td>7.7</td>\n",
       "      <td>D</td>\n",
       "      <td>0</td>\n",
       "    </tr>\n",
       "    <tr>\n",
       "      <th>1</th>\n",
       "      <td>17.5898</td>\n",
       "      <td>80.9893</td>\n",
       "      <td>315.4</td>\n",
       "      <td>1.2</td>\n",
       "      <td>1.1</td>\n",
       "      <td>04-01-2015</td>\n",
       "      <td>750</td>\n",
       "      <td>Aqua</td>\n",
       "      <td>MODIS</td>\n",
       "      <td>59</td>\n",
       "      <td>6.03</td>\n",
       "      <td>299.5</td>\n",
       "      <td>8.8</td>\n",
       "      <td>D</td>\n",
       "      <td>0</td>\n",
       "    </tr>\n",
       "    <tr>\n",
       "      <th>2</th>\n",
       "      <td>17.6028</td>\n",
       "      <td>81.1612</td>\n",
       "      <td>311.8</td>\n",
       "      <td>1.2</td>\n",
       "      <td>1.1</td>\n",
       "      <td>05-01-2015</td>\n",
       "      <td>527</td>\n",
       "      <td>Terra</td>\n",
       "      <td>MODIS</td>\n",
       "      <td>46</td>\n",
       "      <td>6.03</td>\n",
       "      <td>299.8</td>\n",
       "      <td>6.0</td>\n",
       "      <td>D</td>\n",
       "      <td>0</td>\n",
       "    </tr>\n",
       "    <tr>\n",
       "      <th>3</th>\n",
       "      <td>17.5241</td>\n",
       "      <td>80.3135</td>\n",
       "      <td>317.0</td>\n",
       "      <td>1.1</td>\n",
       "      <td>1.0</td>\n",
       "      <td>05-01-2015</td>\n",
       "      <td>527</td>\n",
       "      <td>Terra</td>\n",
       "      <td>MODIS</td>\n",
       "      <td>69</td>\n",
       "      <td>6.03</td>\n",
       "      <td>302.0</td>\n",
       "      <td>9.3</td>\n",
       "      <td>D</td>\n",
       "      <td>0</td>\n",
       "    </tr>\n",
       "    <tr>\n",
       "      <th>4</th>\n",
       "      <td>17.7571</td>\n",
       "      <td>80.3404</td>\n",
       "      <td>317.2</td>\n",
       "      <td>2.5</td>\n",
       "      <td>1.5</td>\n",
       "      <td>05-01-2015</td>\n",
       "      <td>833</td>\n",
       "      <td>Aqua</td>\n",
       "      <td>MODIS</td>\n",
       "      <td>53</td>\n",
       "      <td>6.03</td>\n",
       "      <td>300.0</td>\n",
       "      <td>29.3</td>\n",
       "      <td>D</td>\n",
       "      <td>0</td>\n",
       "    </tr>\n",
       "  </tbody>\n",
       "</table>\n",
       "</div>"
      ],
      "text/plain": [
       "   latitude  longitude  brightness  scan  track    acq_date  acq_time  \\\n",
       "0   18.3777    80.5314       318.6   1.0    1.0  02-01-2015       802   \n",
       "1   17.5898    80.9893       315.4   1.2    1.1  04-01-2015       750   \n",
       "2   17.6028    81.1612       311.8   1.2    1.1  05-01-2015       527   \n",
       "3   17.5241    80.3135       317.0   1.1    1.0  05-01-2015       527   \n",
       "4   17.7571    80.3404       317.2   2.5    1.5  05-01-2015       833   \n",
       "\n",
       "  satellite instrument  confidence  version  bright_t31   frp daynight  type  \n",
       "0      Aqua      MODIS          69     6.03       302.6   7.7        D     0  \n",
       "1      Aqua      MODIS          59     6.03       299.5   8.8        D     0  \n",
       "2     Terra      MODIS          46     6.03       299.8   6.0        D     0  \n",
       "3     Terra      MODIS          69     6.03       302.0   9.3        D     0  \n",
       "4      Aqua      MODIS          53     6.03       300.0  29.3        D     0  "
      ]
     },
     "execution_count": 3,
     "metadata": {},
     "output_type": "execute_result"
    }
   ],
   "source": [
    "df.head()"
   ]
  },
  {
   "cell_type": "code",
   "execution_count": 4,
   "id": "26ffb2b4",
   "metadata": {},
   "outputs": [
    {
     "data": {
      "text/plain": [
       "latitude      0\n",
       "longitude     0\n",
       "brightness    0\n",
       "scan          0\n",
       "track         0\n",
       "acq_date      0\n",
       "acq_time      0\n",
       "satellite     0\n",
       "instrument    0\n",
       "confidence    0\n",
       "version       0\n",
       "bright_t31    0\n",
       "frp           0\n",
       "daynight      0\n",
       "type          0\n",
       "dtype: int64"
      ]
     },
     "execution_count": 4,
     "metadata": {},
     "output_type": "execute_result"
    }
   ],
   "source": [
    "df.isnull().sum()"
   ]
  },
  {
   "cell_type": "code",
   "execution_count": 5,
   "id": "5364f68f",
   "metadata": {},
   "outputs": [
    {
     "name": "stdout",
     "output_type": "stream",
     "text": [
      "<class 'pandas.core.frame.DataFrame'>\n",
      "RangeIndex: 18785 entries, 0 to 18784\n",
      "Data columns (total 15 columns):\n",
      " #   Column      Non-Null Count  Dtype  \n",
      "---  ------      --------------  -----  \n",
      " 0   latitude    18785 non-null  float64\n",
      " 1   longitude   18785 non-null  float64\n",
      " 2   brightness  18785 non-null  float64\n",
      " 3   scan        18785 non-null  float64\n",
      " 4   track       18785 non-null  float64\n",
      " 5   acq_date    18785 non-null  object \n",
      " 6   acq_time    18785 non-null  int64  \n",
      " 7   satellite   18785 non-null  object \n",
      " 8   instrument  18785 non-null  object \n",
      " 9   confidence  18785 non-null  int64  \n",
      " 10  version     18785 non-null  float64\n",
      " 11  bright_t31  18785 non-null  float64\n",
      " 12  frp         18785 non-null  float64\n",
      " 13  daynight    18785 non-null  object \n",
      " 14  type        18785 non-null  int64  \n",
      "dtypes: float64(8), int64(3), object(4)\n",
      "memory usage: 2.1+ MB\n"
     ]
    }
   ],
   "source": [
    "df.info()"
   ]
  },
  {
   "cell_type": "code",
   "execution_count": 6,
   "id": "a127b2c3",
   "metadata": {},
   "outputs": [
    {
     "data": {
      "text/html": [
       "<div>\n",
       "<style scoped>\n",
       "    .dataframe tbody tr th:only-of-type {\n",
       "        vertical-align: middle;\n",
       "    }\n",
       "\n",
       "    .dataframe tbody tr th {\n",
       "        vertical-align: top;\n",
       "    }\n",
       "\n",
       "    .dataframe thead th {\n",
       "        text-align: right;\n",
       "    }\n",
       "</style>\n",
       "<table border=\"1\" class=\"dataframe\">\n",
       "  <thead>\n",
       "    <tr style=\"text-align: right;\">\n",
       "      <th></th>\n",
       "      <th>latitude</th>\n",
       "      <th>longitude</th>\n",
       "      <th>brightness</th>\n",
       "      <th>scan</th>\n",
       "      <th>track</th>\n",
       "      <th>acq_time</th>\n",
       "      <th>confidence</th>\n",
       "      <th>version</th>\n",
       "      <th>bright_t31</th>\n",
       "      <th>frp</th>\n",
       "      <th>type</th>\n",
       "    </tr>\n",
       "  </thead>\n",
       "  <tbody>\n",
       "    <tr>\n",
       "      <th>count</th>\n",
       "      <td>18785.000000</td>\n",
       "      <td>18785.000000</td>\n",
       "      <td>18785.000000</td>\n",
       "      <td>18785.000000</td>\n",
       "      <td>18785.000000</td>\n",
       "      <td>18785.000000</td>\n",
       "      <td>18785.000000</td>\n",
       "      <td>1.878500e+04</td>\n",
       "      <td>18785.000000</td>\n",
       "      <td>18785.000000</td>\n",
       "      <td>18785.000000</td>\n",
       "    </tr>\n",
       "    <tr>\n",
       "      <th>mean</th>\n",
       "      <td>18.107730</td>\n",
       "      <td>79.492732</td>\n",
       "      <td>326.273633</td>\n",
       "      <td>1.318334</td>\n",
       "      <td>1.117849</td>\n",
       "      <td>758.082246</td>\n",
       "      <td>60.403673</td>\n",
       "      <td>6.030000e+00</td>\n",
       "      <td>307.703561</td>\n",
       "      <td>17.336247</td>\n",
       "      <td>0.039606</td>\n",
       "    </tr>\n",
       "    <tr>\n",
       "      <th>std</th>\n",
       "      <td>0.807683</td>\n",
       "      <td>1.014891</td>\n",
       "      <td>9.052207</td>\n",
       "      <td>0.512420</td>\n",
       "      <td>0.170951</td>\n",
       "      <td>248.184978</td>\n",
       "      <td>17.846347</td>\n",
       "      <td>9.548172e-13</td>\n",
       "      <td>6.477860</td>\n",
       "      <td>17.001765</td>\n",
       "      <td>0.278653</td>\n",
       "    </tr>\n",
       "    <tr>\n",
       "      <th>min</th>\n",
       "      <td>15.867800</td>\n",
       "      <td>77.238300</td>\n",
       "      <td>300.000000</td>\n",
       "      <td>1.000000</td>\n",
       "      <td>1.000000</td>\n",
       "      <td>436.000000</td>\n",
       "      <td>0.000000</td>\n",
       "      <td>6.030000e+00</td>\n",
       "      <td>272.600000</td>\n",
       "      <td>3.200000</td>\n",
       "      <td>0.000000</td>\n",
       "    </tr>\n",
       "    <tr>\n",
       "      <th>25%</th>\n",
       "      <td>17.690600</td>\n",
       "      <td>78.630400</td>\n",
       "      <td>320.300000</td>\n",
       "      <td>1.000000</td>\n",
       "      <td>1.000000</td>\n",
       "      <td>539.000000</td>\n",
       "      <td>51.000000</td>\n",
       "      <td>6.030000e+00</td>\n",
       "      <td>303.900000</td>\n",
       "      <td>9.000000</td>\n",
       "      <td>0.000000</td>\n",
       "    </tr>\n",
       "    <tr>\n",
       "      <th>50%</th>\n",
       "      <td>18.176100</td>\n",
       "      <td>79.707000</td>\n",
       "      <td>326.300000</td>\n",
       "      <td>1.100000</td>\n",
       "      <td>1.100000</td>\n",
       "      <td>802.000000</td>\n",
       "      <td>63.000000</td>\n",
       "      <td>6.030000e+00</td>\n",
       "      <td>308.300000</td>\n",
       "      <td>12.700000</td>\n",
       "      <td>0.000000</td>\n",
       "    </tr>\n",
       "    <tr>\n",
       "      <th>75%</th>\n",
       "      <td>18.626500</td>\n",
       "      <td>80.331800</td>\n",
       "      <td>331.700000</td>\n",
       "      <td>1.400000</td>\n",
       "      <td>1.200000</td>\n",
       "      <td>814.000000</td>\n",
       "      <td>72.000000</td>\n",
       "      <td>6.030000e+00</td>\n",
       "      <td>312.300000</td>\n",
       "      <td>19.700000</td>\n",
       "      <td>0.000000</td>\n",
       "    </tr>\n",
       "    <tr>\n",
       "      <th>max</th>\n",
       "      <td>19.892000</td>\n",
       "      <td>81.787700</td>\n",
       "      <td>426.100000</td>\n",
       "      <td>4.800000</td>\n",
       "      <td>2.000000</td>\n",
       "      <td>2102.000000</td>\n",
       "      <td>100.000000</td>\n",
       "      <td>6.030000e+00</td>\n",
       "      <td>327.300000</td>\n",
       "      <td>470.400000</td>\n",
       "      <td>2.000000</td>\n",
       "    </tr>\n",
       "  </tbody>\n",
       "</table>\n",
       "</div>"
      ],
      "text/plain": [
       "           latitude     longitude    brightness          scan         track  \\\n",
       "count  18785.000000  18785.000000  18785.000000  18785.000000  18785.000000   \n",
       "mean      18.107730     79.492732    326.273633      1.318334      1.117849   \n",
       "std        0.807683      1.014891      9.052207      0.512420      0.170951   \n",
       "min       15.867800     77.238300    300.000000      1.000000      1.000000   \n",
       "25%       17.690600     78.630400    320.300000      1.000000      1.000000   \n",
       "50%       18.176100     79.707000    326.300000      1.100000      1.100000   \n",
       "75%       18.626500     80.331800    331.700000      1.400000      1.200000   \n",
       "max       19.892000     81.787700    426.100000      4.800000      2.000000   \n",
       "\n",
       "           acq_time    confidence       version    bright_t31           frp  \\\n",
       "count  18785.000000  18785.000000  1.878500e+04  18785.000000  18785.000000   \n",
       "mean     758.082246     60.403673  6.030000e+00    307.703561     17.336247   \n",
       "std      248.184978     17.846347  9.548172e-13      6.477860     17.001765   \n",
       "min      436.000000      0.000000  6.030000e+00    272.600000      3.200000   \n",
       "25%      539.000000     51.000000  6.030000e+00    303.900000      9.000000   \n",
       "50%      802.000000     63.000000  6.030000e+00    308.300000     12.700000   \n",
       "75%      814.000000     72.000000  6.030000e+00    312.300000     19.700000   \n",
       "max     2102.000000    100.000000  6.030000e+00    327.300000    470.400000   \n",
       "\n",
       "               type  \n",
       "count  18785.000000  \n",
       "mean       0.039606  \n",
       "std        0.278653  \n",
       "min        0.000000  \n",
       "25%        0.000000  \n",
       "50%        0.000000  \n",
       "75%        0.000000  \n",
       "max        2.000000  "
      ]
     },
     "execution_count": 6,
     "metadata": {},
     "output_type": "execute_result"
    }
   ],
   "source": [
    "df.describe()"
   ]
  },
  {
   "cell_type": "code",
   "execution_count": 7,
   "id": "590926b6",
   "metadata": {},
   "outputs": [],
   "source": [
    "df1 = df.drop(['instrument' , 'acq_time','acq_date'] , axis = 1)"
   ]
  },
  {
   "cell_type": "code",
   "execution_count": 8,
   "id": "c31a6700",
   "metadata": {},
   "outputs": [],
   "source": [
    "df1 = pd.get_dummies(columns = ['satellite','daynight'], data = df1)"
   ]
  },
  {
   "cell_type": "code",
   "execution_count": 9,
   "id": "c3afd453",
   "metadata": {},
   "outputs": [
    {
     "data": {
      "text/html": [
       "<div>\n",
       "<style scoped>\n",
       "    .dataframe tbody tr th:only-of-type {\n",
       "        vertical-align: middle;\n",
       "    }\n",
       "\n",
       "    .dataframe tbody tr th {\n",
       "        vertical-align: top;\n",
       "    }\n",
       "\n",
       "    .dataframe thead th {\n",
       "        text-align: right;\n",
       "    }\n",
       "</style>\n",
       "<table border=\"1\" class=\"dataframe\">\n",
       "  <thead>\n",
       "    <tr style=\"text-align: right;\">\n",
       "      <th></th>\n",
       "      <th>latitude</th>\n",
       "      <th>longitude</th>\n",
       "      <th>brightness</th>\n",
       "      <th>scan</th>\n",
       "      <th>track</th>\n",
       "      <th>confidence</th>\n",
       "      <th>version</th>\n",
       "      <th>bright_t31</th>\n",
       "      <th>frp</th>\n",
       "      <th>type</th>\n",
       "      <th>satellite_Aqua</th>\n",
       "      <th>satellite_Terra</th>\n",
       "      <th>daynight_D</th>\n",
       "      <th>daynight_N</th>\n",
       "    </tr>\n",
       "  </thead>\n",
       "  <tbody>\n",
       "    <tr>\n",
       "      <th>0</th>\n",
       "      <td>18.3777</td>\n",
       "      <td>80.5314</td>\n",
       "      <td>318.6</td>\n",
       "      <td>1.0</td>\n",
       "      <td>1.0</td>\n",
       "      <td>69</td>\n",
       "      <td>6.03</td>\n",
       "      <td>302.6</td>\n",
       "      <td>7.7</td>\n",
       "      <td>0</td>\n",
       "      <td>1</td>\n",
       "      <td>0</td>\n",
       "      <td>1</td>\n",
       "      <td>0</td>\n",
       "    </tr>\n",
       "    <tr>\n",
       "      <th>1</th>\n",
       "      <td>17.5898</td>\n",
       "      <td>80.9893</td>\n",
       "      <td>315.4</td>\n",
       "      <td>1.2</td>\n",
       "      <td>1.1</td>\n",
       "      <td>59</td>\n",
       "      <td>6.03</td>\n",
       "      <td>299.5</td>\n",
       "      <td>8.8</td>\n",
       "      <td>0</td>\n",
       "      <td>1</td>\n",
       "      <td>0</td>\n",
       "      <td>1</td>\n",
       "      <td>0</td>\n",
       "    </tr>\n",
       "    <tr>\n",
       "      <th>2</th>\n",
       "      <td>17.6028</td>\n",
       "      <td>81.1612</td>\n",
       "      <td>311.8</td>\n",
       "      <td>1.2</td>\n",
       "      <td>1.1</td>\n",
       "      <td>46</td>\n",
       "      <td>6.03</td>\n",
       "      <td>299.8</td>\n",
       "      <td>6.0</td>\n",
       "      <td>0</td>\n",
       "      <td>0</td>\n",
       "      <td>1</td>\n",
       "      <td>1</td>\n",
       "      <td>0</td>\n",
       "    </tr>\n",
       "    <tr>\n",
       "      <th>3</th>\n",
       "      <td>17.5241</td>\n",
       "      <td>80.3135</td>\n",
       "      <td>317.0</td>\n",
       "      <td>1.1</td>\n",
       "      <td>1.0</td>\n",
       "      <td>69</td>\n",
       "      <td>6.03</td>\n",
       "      <td>302.0</td>\n",
       "      <td>9.3</td>\n",
       "      <td>0</td>\n",
       "      <td>0</td>\n",
       "      <td>1</td>\n",
       "      <td>1</td>\n",
       "      <td>0</td>\n",
       "    </tr>\n",
       "    <tr>\n",
       "      <th>4</th>\n",
       "      <td>17.7571</td>\n",
       "      <td>80.3404</td>\n",
       "      <td>317.2</td>\n",
       "      <td>2.5</td>\n",
       "      <td>1.5</td>\n",
       "      <td>53</td>\n",
       "      <td>6.03</td>\n",
       "      <td>300.0</td>\n",
       "      <td>29.3</td>\n",
       "      <td>0</td>\n",
       "      <td>1</td>\n",
       "      <td>0</td>\n",
       "      <td>1</td>\n",
       "      <td>0</td>\n",
       "    </tr>\n",
       "  </tbody>\n",
       "</table>\n",
       "</div>"
      ],
      "text/plain": [
       "   latitude  longitude  brightness  scan  track  confidence  version  \\\n",
       "0   18.3777    80.5314       318.6   1.0    1.0          69     6.03   \n",
       "1   17.5898    80.9893       315.4   1.2    1.1          59     6.03   \n",
       "2   17.6028    81.1612       311.8   1.2    1.1          46     6.03   \n",
       "3   17.5241    80.3135       317.0   1.1    1.0          69     6.03   \n",
       "4   17.7571    80.3404       317.2   2.5    1.5          53     6.03   \n",
       "\n",
       "   bright_t31   frp  type  satellite_Aqua  satellite_Terra  daynight_D  \\\n",
       "0       302.6   7.7     0               1                0           1   \n",
       "1       299.5   8.8     0               1                0           1   \n",
       "2       299.8   6.0     0               0                1           1   \n",
       "3       302.0   9.3     0               0                1           1   \n",
       "4       300.0  29.3     0               1                0           1   \n",
       "\n",
       "   daynight_N  \n",
       "0           0  \n",
       "1           0  \n",
       "2           0  \n",
       "3           0  \n",
       "4           0  "
      ]
     },
     "execution_count": 9,
     "metadata": {},
     "output_type": "execute_result"
    }
   ],
   "source": [
    "df1.head()"
   ]
  },
  {
   "cell_type": "code",
   "execution_count": 10,
   "id": "c00d4aad",
   "metadata": {},
   "outputs": [
    {
     "name": "stdout",
     "output_type": "stream",
     "text": [
      "<class 'pandas.core.frame.DataFrame'>\n",
      "RangeIndex: 18785 entries, 0 to 18784\n",
      "Data columns (total 14 columns):\n",
      " #   Column           Non-Null Count  Dtype  \n",
      "---  ------           --------------  -----  \n",
      " 0   latitude         18785 non-null  float64\n",
      " 1   longitude        18785 non-null  float64\n",
      " 2   brightness       18785 non-null  float64\n",
      " 3   scan             18785 non-null  float64\n",
      " 4   track            18785 non-null  float64\n",
      " 5   confidence       18785 non-null  int64  \n",
      " 6   version          18785 non-null  float64\n",
      " 7   bright_t31       18785 non-null  float64\n",
      " 8   frp              18785 non-null  float64\n",
      " 9   type             18785 non-null  int64  \n",
      " 10  satellite_Aqua   18785 non-null  uint8  \n",
      " 11  satellite_Terra  18785 non-null  uint8  \n",
      " 12  daynight_D       18785 non-null  uint8  \n",
      " 13  daynight_N       18785 non-null  uint8  \n",
      "dtypes: float64(8), int64(2), uint8(4)\n",
      "memory usage: 1.5 MB\n"
     ]
    }
   ],
   "source": [
    "df1.info()"
   ]
  },
  {
   "cell_type": "code",
   "execution_count": 11,
   "id": "9eb1d7a1",
   "metadata": {},
   "outputs": [
    {
     "data": {
      "text/plain": [
       "(18785, 14)"
      ]
     },
     "execution_count": 11,
     "metadata": {},
     "output_type": "execute_result"
    }
   ],
   "source": [
    "df1.shape"
   ]
  },
  {
   "cell_type": "code",
   "execution_count": 12,
   "id": "51e79afb",
   "metadata": {},
   "outputs": [],
   "source": [
    "df1['type'] = df1['type'].replace(2,1)"
   ]
  },
  {
   "cell_type": "code",
   "execution_count": 13,
   "id": "1b307844",
   "metadata": {},
   "outputs": [],
   "source": [
    "x = df1.drop(columns = 'type')"
   ]
  },
  {
   "cell_type": "code",
   "execution_count": 14,
   "id": "b027a9cf",
   "metadata": {},
   "outputs": [
    {
     "data": {
      "text/html": [
       "<div>\n",
       "<style scoped>\n",
       "    .dataframe tbody tr th:only-of-type {\n",
       "        vertical-align: middle;\n",
       "    }\n",
       "\n",
       "    .dataframe tbody tr th {\n",
       "        vertical-align: top;\n",
       "    }\n",
       "\n",
       "    .dataframe thead th {\n",
       "        text-align: right;\n",
       "    }\n",
       "</style>\n",
       "<table border=\"1\" class=\"dataframe\">\n",
       "  <thead>\n",
       "    <tr style=\"text-align: right;\">\n",
       "      <th></th>\n",
       "      <th>latitude</th>\n",
       "      <th>longitude</th>\n",
       "      <th>brightness</th>\n",
       "      <th>scan</th>\n",
       "      <th>track</th>\n",
       "      <th>confidence</th>\n",
       "      <th>version</th>\n",
       "      <th>bright_t31</th>\n",
       "      <th>frp</th>\n",
       "      <th>type</th>\n",
       "      <th>satellite_Aqua</th>\n",
       "      <th>satellite_Terra</th>\n",
       "      <th>daynight_D</th>\n",
       "      <th>daynight_N</th>\n",
       "    </tr>\n",
       "  </thead>\n",
       "  <tbody>\n",
       "    <tr>\n",
       "      <th>0</th>\n",
       "      <td>18.3777</td>\n",
       "      <td>80.5314</td>\n",
       "      <td>318.6</td>\n",
       "      <td>1.0</td>\n",
       "      <td>1.0</td>\n",
       "      <td>69</td>\n",
       "      <td>6.03</td>\n",
       "      <td>302.6</td>\n",
       "      <td>7.7</td>\n",
       "      <td>0</td>\n",
       "      <td>1</td>\n",
       "      <td>0</td>\n",
       "      <td>1</td>\n",
       "      <td>0</td>\n",
       "    </tr>\n",
       "    <tr>\n",
       "      <th>1</th>\n",
       "      <td>17.5898</td>\n",
       "      <td>80.9893</td>\n",
       "      <td>315.4</td>\n",
       "      <td>1.2</td>\n",
       "      <td>1.1</td>\n",
       "      <td>59</td>\n",
       "      <td>6.03</td>\n",
       "      <td>299.5</td>\n",
       "      <td>8.8</td>\n",
       "      <td>0</td>\n",
       "      <td>1</td>\n",
       "      <td>0</td>\n",
       "      <td>1</td>\n",
       "      <td>0</td>\n",
       "    </tr>\n",
       "    <tr>\n",
       "      <th>2</th>\n",
       "      <td>17.6028</td>\n",
       "      <td>81.1612</td>\n",
       "      <td>311.8</td>\n",
       "      <td>1.2</td>\n",
       "      <td>1.1</td>\n",
       "      <td>46</td>\n",
       "      <td>6.03</td>\n",
       "      <td>299.8</td>\n",
       "      <td>6.0</td>\n",
       "      <td>0</td>\n",
       "      <td>0</td>\n",
       "      <td>1</td>\n",
       "      <td>1</td>\n",
       "      <td>0</td>\n",
       "    </tr>\n",
       "    <tr>\n",
       "      <th>3</th>\n",
       "      <td>17.5241</td>\n",
       "      <td>80.3135</td>\n",
       "      <td>317.0</td>\n",
       "      <td>1.1</td>\n",
       "      <td>1.0</td>\n",
       "      <td>69</td>\n",
       "      <td>6.03</td>\n",
       "      <td>302.0</td>\n",
       "      <td>9.3</td>\n",
       "      <td>0</td>\n",
       "      <td>0</td>\n",
       "      <td>1</td>\n",
       "      <td>1</td>\n",
       "      <td>0</td>\n",
       "    </tr>\n",
       "    <tr>\n",
       "      <th>4</th>\n",
       "      <td>17.7571</td>\n",
       "      <td>80.3404</td>\n",
       "      <td>317.2</td>\n",
       "      <td>2.5</td>\n",
       "      <td>1.5</td>\n",
       "      <td>53</td>\n",
       "      <td>6.03</td>\n",
       "      <td>300.0</td>\n",
       "      <td>29.3</td>\n",
       "      <td>0</td>\n",
       "      <td>1</td>\n",
       "      <td>0</td>\n",
       "      <td>1</td>\n",
       "      <td>0</td>\n",
       "    </tr>\n",
       "    <tr>\n",
       "      <th>5</th>\n",
       "      <td>17.7513</td>\n",
       "      <td>80.3465</td>\n",
       "      <td>316.8</td>\n",
       "      <td>2.5</td>\n",
       "      <td>1.5</td>\n",
       "      <td>57</td>\n",
       "      <td>6.03</td>\n",
       "      <td>300.8</td>\n",
       "      <td>27.5</td>\n",
       "      <td>0</td>\n",
       "      <td>1</td>\n",
       "      <td>0</td>\n",
       "      <td>1</td>\n",
       "      <td>0</td>\n",
       "    </tr>\n",
       "    <tr>\n",
       "      <th>6</th>\n",
       "      <td>17.7421</td>\n",
       "      <td>80.3616</td>\n",
       "      <td>324.6</td>\n",
       "      <td>2.1</td>\n",
       "      <td>1.4</td>\n",
       "      <td>77</td>\n",
       "      <td>6.03</td>\n",
       "      <td>303.7</td>\n",
       "      <td>44.0</td>\n",
       "      <td>0</td>\n",
       "      <td>1</td>\n",
       "      <td>0</td>\n",
       "      <td>1</td>\n",
       "      <td>0</td>\n",
       "    </tr>\n",
       "    <tr>\n",
       "      <th>7</th>\n",
       "      <td>17.7385</td>\n",
       "      <td>80.3420</td>\n",
       "      <td>328.7</td>\n",
       "      <td>2.1</td>\n",
       "      <td>1.4</td>\n",
       "      <td>81</td>\n",
       "      <td>6.03</td>\n",
       "      <td>305.8</td>\n",
       "      <td>58.6</td>\n",
       "      <td>0</td>\n",
       "      <td>1</td>\n",
       "      <td>0</td>\n",
       "      <td>1</td>\n",
       "      <td>0</td>\n",
       "    </tr>\n",
       "    <tr>\n",
       "      <th>8</th>\n",
       "      <td>17.9539</td>\n",
       "      <td>80.8069</td>\n",
       "      <td>314.0</td>\n",
       "      <td>1.0</td>\n",
       "      <td>1.0</td>\n",
       "      <td>52</td>\n",
       "      <td>6.03</td>\n",
       "      <td>302.8</td>\n",
       "      <td>5.6</td>\n",
       "      <td>1</td>\n",
       "      <td>0</td>\n",
       "      <td>1</td>\n",
       "      <td>1</td>\n",
       "      <td>0</td>\n",
       "    </tr>\n",
       "    <tr>\n",
       "      <th>9</th>\n",
       "      <td>19.0243</td>\n",
       "      <td>78.3855</td>\n",
       "      <td>317.1</td>\n",
       "      <td>1.2</td>\n",
       "      <td>1.1</td>\n",
       "      <td>58</td>\n",
       "      <td>6.03</td>\n",
       "      <td>303.6</td>\n",
       "      <td>8.3</td>\n",
       "      <td>0</td>\n",
       "      <td>1</td>\n",
       "      <td>0</td>\n",
       "      <td>1</td>\n",
       "      <td>0</td>\n",
       "    </tr>\n",
       "  </tbody>\n",
       "</table>\n",
       "</div>"
      ],
      "text/plain": [
       "   latitude  longitude  brightness  scan  track  confidence  version  \\\n",
       "0   18.3777    80.5314       318.6   1.0    1.0          69     6.03   \n",
       "1   17.5898    80.9893       315.4   1.2    1.1          59     6.03   \n",
       "2   17.6028    81.1612       311.8   1.2    1.1          46     6.03   \n",
       "3   17.5241    80.3135       317.0   1.1    1.0          69     6.03   \n",
       "4   17.7571    80.3404       317.2   2.5    1.5          53     6.03   \n",
       "5   17.7513    80.3465       316.8   2.5    1.5          57     6.03   \n",
       "6   17.7421    80.3616       324.6   2.1    1.4          77     6.03   \n",
       "7   17.7385    80.3420       328.7   2.1    1.4          81     6.03   \n",
       "8   17.9539    80.8069       314.0   1.0    1.0          52     6.03   \n",
       "9   19.0243    78.3855       317.1   1.2    1.1          58     6.03   \n",
       "\n",
       "   bright_t31   frp  type  satellite_Aqua  satellite_Terra  daynight_D  \\\n",
       "0       302.6   7.7     0               1                0           1   \n",
       "1       299.5   8.8     0               1                0           1   \n",
       "2       299.8   6.0     0               0                1           1   \n",
       "3       302.0   9.3     0               0                1           1   \n",
       "4       300.0  29.3     0               1                0           1   \n",
       "5       300.8  27.5     0               1                0           1   \n",
       "6       303.7  44.0     0               1                0           1   \n",
       "7       305.8  58.6     0               1                0           1   \n",
       "8       302.8   5.6     1               0                1           1   \n",
       "9       303.6   8.3     0               1                0           1   \n",
       "\n",
       "   daynight_N  \n",
       "0           0  \n",
       "1           0  \n",
       "2           0  \n",
       "3           0  \n",
       "4           0  \n",
       "5           0  \n",
       "6           0  \n",
       "7           0  \n",
       "8           0  \n",
       "9           0  "
      ]
     },
     "execution_count": 14,
     "metadata": {},
     "output_type": "execute_result"
    }
   ],
   "source": [
    "df1.head(10)"
   ]
  },
  {
   "cell_type": "code",
   "execution_count": 15,
   "id": "28db5427",
   "metadata": {},
   "outputs": [],
   "source": [
    "y = df1['type']"
   ]
  },
  {
   "cell_type": "code",
   "execution_count": 16,
   "id": "0db5ee06",
   "metadata": {},
   "outputs": [],
   "source": [
    "from sklearn.model_selection import train_test_split"
   ]
  },
  {
   "cell_type": "code",
   "execution_count": 17,
   "id": "3014f8aa",
   "metadata": {},
   "outputs": [],
   "source": [
    "X_train , X_test,Y_train, Y_test = train_test_split(x,y ,test_size = 0.30, random_state = 10)"
   ]
  },
  {
   "cell_type": "code",
   "execution_count": 18,
   "id": "95835466",
   "metadata": {},
   "outputs": [],
   "source": [
    "from sklearn.preprocessing import StandardScaler\n",
    "scaler = StandardScaler()"
   ]
  },
  {
   "cell_type": "code",
   "execution_count": 19,
   "id": "789b87de",
   "metadata": {},
   "outputs": [
    {
     "data": {
      "text/plain": [
       "StandardScaler()"
      ]
     },
     "execution_count": 19,
     "metadata": {},
     "output_type": "execute_result"
    }
   ],
   "source": [
    "scaler.fit(x)"
   ]
  },
  {
   "cell_type": "code",
   "execution_count": 20,
   "id": "71ac6c2a",
   "metadata": {},
   "outputs": [],
   "source": [
    "X_train_s = scaler.transform(X_train)\n",
    "X_test_s = scaler.transform(X_test)"
   ]
  },
  {
   "cell_type": "code",
   "execution_count": 21,
   "id": "6f8e865f",
   "metadata": {},
   "outputs": [
    {
     "data": {
      "text/plain": [
       "(5636, 13)"
      ]
     },
     "execution_count": 21,
     "metadata": {},
     "output_type": "execute_result"
    }
   ],
   "source": [
    "X_train_s.shape\n",
    "X_test_s.shape "
   ]
  },
  {
   "cell_type": "code",
   "execution_count": 22,
   "id": "47e16ec9",
   "metadata": {},
   "outputs": [
    {
     "data": {
      "text/plain": [
       "KNeighborsClassifier(n_neighbors=2)"
      ]
     },
     "execution_count": 22,
     "metadata": {},
     "output_type": "execute_result"
    }
   ],
   "source": [
    "from sklearn.neighbors import KNeighborsClassifier\n",
    "clf_knn_1 = KNeighborsClassifier(n_neighbors=2)\n",
    "clf_knn_1.fit(X_train_s,Y_train)"
   ]
  },
  {
   "cell_type": "code",
   "execution_count": 23,
   "id": "ad31eb46",
   "metadata": {},
   "outputs": [],
   "source": [
    "from sklearn.metrics import accuracy_score, confusion_matrix"
   ]
  },
  {
   "cell_type": "code",
   "execution_count": 24,
   "id": "e9074cce",
   "metadata": {},
   "outputs": [
    {
     "data": {
      "text/plain": [
       "array([[5518,    0],\n",
       "       [ 118,    0]], dtype=int64)"
      ]
     },
     "execution_count": 24,
     "metadata": {},
     "output_type": "execute_result"
    }
   ],
   "source": [
    "confusion_matrix(Y_test, clf_knn_1.predict(X_test))"
   ]
  },
  {
   "cell_type": "code",
   "execution_count": 25,
   "id": "adef5498",
   "metadata": {},
   "outputs": [
    {
     "data": {
      "text/plain": [
       "0.9790631653655074"
      ]
     },
     "execution_count": 25,
     "metadata": {},
     "output_type": "execute_result"
    }
   ],
   "source": [
    "accuracy_score(Y_test, clf_knn_1.predict(X_test))"
   ]
  },
  {
   "cell_type": "code",
   "execution_count": 26,
   "id": "0bf78659",
   "metadata": {},
   "outputs": [],
   "source": [
    "params = {'n_neighbors': [1, 2, 3, 4, 5, 6, 7, 8, 9, 10, 20]}"
   ]
  },
  {
   "cell_type": "code",
   "execution_count": 27,
   "id": "109f1f50",
   "metadata": {},
   "outputs": [],
   "source": [
    "from sklearn.model_selection import GridSearchCV"
   ]
  },
  {
   "cell_type": "code",
   "execution_count": 28,
   "id": "e8ed9b95",
   "metadata": {},
   "outputs": [],
   "source": [
    "grid_search_cv = GridSearchCV(KNeighborsClassifier(), params)"
   ]
  },
  {
   "cell_type": "code",
   "execution_count": 29,
   "id": "e0156c25",
   "metadata": {},
   "outputs": [
    {
     "data": {
      "text/plain": [
       "GridSearchCV(estimator=KNeighborsClassifier(),\n",
       "             param_grid={'n_neighbors': [1, 2, 3, 4, 5, 6, 7, 8, 9, 10, 20]})"
      ]
     },
     "execution_count": 29,
     "metadata": {},
     "output_type": "execute_result"
    }
   ],
   "source": [
    "grid_search_cv.fit(X_train_s, Y_train)"
   ]
  },
  {
   "cell_type": "code",
   "execution_count": 30,
   "id": "48072e82",
   "metadata": {},
   "outputs": [
    {
     "data": {
      "text/plain": [
       "{'n_neighbors': 4}"
      ]
     },
     "execution_count": 30,
     "metadata": {},
     "output_type": "execute_result"
    }
   ],
   "source": [
    "grid_search_cv.best_params_"
   ]
  },
  {
   "cell_type": "code",
   "execution_count": 31,
   "id": "3c13b6b9",
   "metadata": {},
   "outputs": [],
   "source": [
    "optimised_KNN = grid_search_cv.best_estimator_"
   ]
  },
  {
   "cell_type": "code",
   "execution_count": 32,
   "id": "26002471",
   "metadata": {},
   "outputs": [],
   "source": [
    "y_test_knn = optimised_KNN.predict(X_test) "
   ]
  },
  {
   "cell_type": "code",
   "execution_count": 33,
   "id": "e0f301ee",
   "metadata": {},
   "outputs": [
    {
     "data": {
      "text/plain": [
       "array([[5518,    0],\n",
       "       [ 118,    0]], dtype=int64)"
      ]
     },
     "execution_count": 33,
     "metadata": {},
     "output_type": "execute_result"
    }
   ],
   "source": [
    "confusion_matrix(Y_test, y_test_knn)"
   ]
  },
  {
   "cell_type": "code",
   "execution_count": 34,
   "id": "badb6b71",
   "metadata": {},
   "outputs": [
    {
     "data": {
      "text/plain": [
       "0.9790631653655074"
      ]
     },
     "execution_count": 34,
     "metadata": {},
     "output_type": "execute_result"
    }
   ],
   "source": [
    "accuracy_score(Y_test, y_test_knn)"
   ]
  },
  {
   "cell_type": "code",
   "execution_count": 60,
   "id": "56d94deb",
   "metadata": {},
   "outputs": [],
   "source": [
    "z = optimised_KNN.predict_proba(X_test_s) "
   ]
  },
  {
   "cell_type": "code",
   "execution_count": 61,
   "id": "245ebc27",
   "metadata": {},
   "outputs": [],
   "source": [
    "y = optimised_KNN.predict_proba(X_train_s) "
   ]
  },
  {
   "cell_type": "markdown",
   "id": "30a0d334",
   "metadata": {},
   "source": [
    "# KMEANSALGORITHM"
   ]
  },
  {
   "cell_type": "code",
   "execution_count": 37,
   "id": "9c0c8817",
   "metadata": {},
   "outputs": [],
   "source": [
    "from sklearn import datasets\n",
    "from sklearn import preprocessing\n",
    "from sklearn.preprocessing import StandardScaler\n",
    "from sklearn.preprocessing import MinMaxScaler"
   ]
  },
  {
   "cell_type": "code",
   "execution_count": 38,
   "id": "1c43a1e2",
   "metadata": {},
   "outputs": [
    {
     "data": {
      "text/plain": [
       "KMeans(n_clusters=2, random_state=0)"
      ]
     },
     "execution_count": 38,
     "metadata": {},
     "output_type": "execute_result"
    }
   ],
   "source": [
    "from sklearn.cluster import KMeans\n",
    "KMeans_Clustering = KMeans(n_clusters =2, random_state=0)\n",
    "KMeans_Clustering.fit(X_train_s, Y_train)"
   ]
  },
  {
   "cell_type": "code",
   "execution_count": 39,
   "id": "a8779af3",
   "metadata": {},
   "outputs": [],
   "source": [
    "kpred = KMeans_Clustering.predict(X_test_s)"
   ]
  },
  {
   "cell_type": "code",
   "execution_count": 40,
   "id": "fffce79b",
   "metadata": {},
   "outputs": [
    {
     "data": {
      "text/plain": [
       "array([[ 221, 5297],\n",
       "       [  22,   96]], dtype=int64)"
      ]
     },
     "execution_count": 40,
     "metadata": {},
     "output_type": "execute_result"
    }
   ],
   "source": [
    "confusion_matrix(Y_test,kpred)"
   ]
  },
  {
   "cell_type": "code",
   "execution_count": 41,
   "id": "35ce7c84",
   "metadata": {},
   "outputs": [
    {
     "data": {
      "text/plain": [
       "0.05624556422995032"
      ]
     },
     "execution_count": 41,
     "metadata": {},
     "output_type": "execute_result"
    }
   ],
   "source": [
    "accuracy_score(Y_test,kpred)"
   ]
  },
  {
   "cell_type": "code",
   "execution_count": 51,
   "id": "0ba1ba36",
   "metadata": {},
   "outputs": [
    {
     "data": {
      "text/plain": [
       "Text(0, 0.5, 'WCSS')"
      ]
     },
     "execution_count": 51,
     "metadata": {},
     "output_type": "execute_result"
    },
    {
     "data": {
      "image/png": "[encoded data removed]",
      "text/plain": [
       "<Figure size 432x288 with 1 Axes>"
      ]
     },
     "metadata": {
      "needs_background": "light"
     },
     "output_type": "display_data"
    }
   ],
   "source": [
    "wcss=[]\n",
    "for i in range(1,10):\n",
    "    kmeans = KMeans(i)\n",
    "    kmeans.fit(X_train_s, Y_train)\n",
    "    wcss_iter = kmeans.inertia_\n",
    "    wcss.append(wcss_iter)\n",
    "\n",
    "number_clusters = range(1,10)\n",
    "plt.plot(number_clusters,wcss)\n",
    "plt.title('The Elbow title')\n",
    "plt.xlabel('Number of clusters')\n",
    "plt.ylabel('WCSS')"
   ]
  },
  {
   "cell_type": "code",
   "execution_count": 52,
   "id": "894ee9fd",
   "metadata": {},
   "outputs": [],
   "source": [
    "params = {'n_clusters': [2, 3, 4, 5]}"
   ]
  },
  {
   "cell_type": "code",
   "execution_count": 53,
   "id": "49217ee8",
   "metadata": {},
   "outputs": [],
   "source": [
    "grid_search_cv = GridSearchCV(KMeans(), params)"
   ]
  },
  {
   "cell_type": "code",
   "execution_count": 54,
   "id": "106ed6d8",
   "metadata": {},
   "outputs": [
    {
     "data": {
      "text/plain": [
       "GridSearchCV(estimator=KMeans(), param_grid={'n_clusters': [2, 3, 4, 5]})"
      ]
     },
     "execution_count": 54,
     "metadata": {},
     "output_type": "execute_result"
    }
   ],
   "source": [
    "grid_search_cv.fit(X_train_s, Y_train)"
   ]
  },
  {
   "cell_type": "code",
   "execution_count": 55,
   "id": "fbde2c1b",
   "metadata": {},
   "outputs": [
    {
     "data": {
      "text/plain": [
       "{'n_clusters': 5}"
      ]
     },
     "execution_count": 55,
     "metadata": {},
     "output_type": "execute_result"
    }
   ],
   "source": [
    "grid_search_cv.best_params_"
   ]
  },
  {
   "cell_type": "code",
   "execution_count": 56,
   "id": "8ea6e6cd",
   "metadata": {},
   "outputs": [],
   "source": [
    "optimised_KM = grid_search_cv.best_estimator_"
   ]
  },
  {
   "cell_type": "code",
   "execution_count": 57,
   "id": "da3d4b5a",
   "metadata": {},
   "outputs": [],
   "source": [
    "y_test_kM = optimised_KM.predict(X_test_s) "
   ]
  },
  {
   "cell_type": "code",
   "execution_count": 58,
   "id": "4f96f4a6",
   "metadata": {},
   "outputs": [
    {
     "data": {
      "text/plain": [
       "array([[1489, 1954,  434,  221, 1420],\n",
       "       [  45,   36,    2,   22,   13],\n",
       "       [   0,    0,    0,    0,    0],\n",
       "       [   0,    0,    0,    0,    0],\n",
       "       [   0,    0,    0,    0,    0]], dtype=int64)"
      ]
     },
     "execution_count": 58,
     "metadata": {},
     "output_type": "execute_result"
    }
   ],
   "source": [
    "confusion_matrix(Y_test, y_test_kM)"
   ]
  },
  {
   "cell_type": "code",
   "execution_count": 59,
   "id": "d487a373",
   "metadata": {},
   "outputs": [
    {
     "data": {
      "text/plain": [
       "0.2705819730305181"
      ]
     },
     "execution_count": 59,
     "metadata": {},
     "output_type": "execute_result"
    }
   ],
   "source": [
    "accuracy_score(Y_test, y_test_kM)"
   ]
  },
  {
   "cell_type": "code",
   "execution_count": 66,
   "id": "23a291ad",
   "metadata": {},
   "outputs": [],
   "source": [
    "import numpy"
   ]
  },
  {
   "cell_type": "code",
   "execution_count": 70,
   "id": "1e53afc9",
   "metadata": {},
   "outputs": [],
   "source": [
    "a = numpy.concatenate([z,y])"
   ]
  },
  {
   "cell_type": "code",
   "execution_count": 71,
   "id": "92aa718c",
   "metadata": {},
   "outputs": [],
   "source": [
    "dfz = pd.DataFrame(a)"
   ]
  },
  {
   "cell_type": "code",
   "execution_count": 72,
   "id": "96ad9cab",
   "metadata": {},
   "outputs": [
    {
     "data": {
      "text/html": [
       "<div>\n",
       "<style scoped>\n",
       "    .dataframe tbody tr th:only-of-type {\n",
       "        vertical-align: middle;\n",
       "    }\n",
       "\n",
       "    .dataframe tbody tr th {\n",
       "        vertical-align: top;\n",
       "    }\n",
       "\n",
       "    .dataframe thead th {\n",
       "        text-align: right;\n",
       "    }\n",
       "</style>\n",
       "<table border=\"1\" class=\"dataframe\">\n",
       "  <thead>\n",
       "    <tr style=\"text-align: right;\">\n",
       "      <th></th>\n",
       "      <th>0</th>\n",
       "      <th>1</th>\n",
       "    </tr>\n",
       "  </thead>\n",
       "  <tbody>\n",
       "    <tr>\n",
       "      <th>0</th>\n",
       "      <td>1.0</td>\n",
       "      <td>0.0</td>\n",
       "    </tr>\n",
       "    <tr>\n",
       "      <th>1</th>\n",
       "      <td>1.0</td>\n",
       "      <td>0.0</td>\n",
       "    </tr>\n",
       "    <tr>\n",
       "      <th>2</th>\n",
       "      <td>1.0</td>\n",
       "      <td>0.0</td>\n",
       "    </tr>\n",
       "    <tr>\n",
       "      <th>3</th>\n",
       "      <td>1.0</td>\n",
       "      <td>0.0</td>\n",
       "    </tr>\n",
       "    <tr>\n",
       "      <th>4</th>\n",
       "      <td>1.0</td>\n",
       "      <td>0.0</td>\n",
       "    </tr>\n",
       "    <tr>\n",
       "      <th>...</th>\n",
       "      <td>...</td>\n",
       "      <td>...</td>\n",
       "    </tr>\n",
       "    <tr>\n",
       "      <th>18780</th>\n",
       "      <td>1.0</td>\n",
       "      <td>0.0</td>\n",
       "    </tr>\n",
       "    <tr>\n",
       "      <th>18781</th>\n",
       "      <td>1.0</td>\n",
       "      <td>0.0</td>\n",
       "    </tr>\n",
       "    <tr>\n",
       "      <th>18782</th>\n",
       "      <td>1.0</td>\n",
       "      <td>0.0</td>\n",
       "    </tr>\n",
       "    <tr>\n",
       "      <th>18783</th>\n",
       "      <td>1.0</td>\n",
       "      <td>0.0</td>\n",
       "    </tr>\n",
       "    <tr>\n",
       "      <th>18784</th>\n",
       "      <td>1.0</td>\n",
       "      <td>0.0</td>\n",
       "    </tr>\n",
       "  </tbody>\n",
       "</table>\n",
       "<p>18785 rows × 2 columns</p>\n",
       "</div>"
      ],
      "text/plain": [
       "         0    1\n",
       "0      1.0  0.0\n",
       "1      1.0  0.0\n",
       "2      1.0  0.0\n",
       "3      1.0  0.0\n",
       "4      1.0  0.0\n",
       "...    ...  ...\n",
       "18780  1.0  0.0\n",
       "18781  1.0  0.0\n",
       "18782  1.0  0.0\n",
       "18783  1.0  0.0\n",
       "18784  1.0  0.0\n",
       "\n",
       "[18785 rows x 2 columns]"
      ]
     },
     "execution_count": 72,
     "metadata": {},
     "output_type": "execute_result"
    }
   ],
   "source": [
    "dfz"
   ]
  },
  {
   "cell_type": "code",
   "execution_count": 73,
   "id": "593636eb",
   "metadata": {},
   "outputs": [],
   "source": [
    "dfz.to_json(\"output2.json\")"
   ]
  },
  {
   "cell_type": "code",
   "execution_count": null,
   "id": "1c227167",
   "metadata": {},
   "outputs": [],
   "source": []
  }
 ],
 "metadata": {
  "kernelspec": {
   "display_name": "Python 3 (ipykernel)",
   "language": "python",
   "name": "python3"
  },
  "language_info": {
   "codemirror_mode": {
    "name": "ipython",
    "version": 3
   },
   "file_extension": ".py",
   "mimetype": "text/x-python",
   "name": "python",
   "nbconvert_exporter": "python",
   "pygments_lexer": "ipython3",
   "version": "3.9.7"
  }
 },
 "nbformat": 4,
 "nbformat_minor": 5
}
